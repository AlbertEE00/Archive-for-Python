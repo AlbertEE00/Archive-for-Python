{
  "nbformat": 4,
  "nbformat_minor": 0,
  "metadata": {
    "colab": {
      "provenance": [],
      "authorship_tag": "ABX9TyO2zoqGWBVGysPsU2xFbkik",
      "include_colab_link": true
    },
    "kernelspec": {
      "name": "python3",
      "display_name": "Python 3"
    },
    "language_info": {
      "name": "python"
    }
  },
  "cells": [
    {
      "cell_type": "markdown",
      "metadata": {
        "id": "view-in-github",
        "colab_type": "text"
      },
      "source": [
        "<a href=\"https://colab.research.google.com/github/AlbertEE00/Archive-for-Python/blob/master/Sandbox.ipynb\" target=\"_parent\"><img src=\"https://colab.research.google.com/assets/colab-badge.svg\" alt=\"Open In Colab\"/></a>"
      ]
    },
    {
      "cell_type": "code",
      "execution_count": null,
      "metadata": {
        "id": "Q-gpbi2Mpx8b"
      },
      "outputs": [],
      "source": []
    },
    {
      "cell_type": "markdown",
      "source": [
        "When $a \\ne 0$, there are two solutions to $(ax^2 + bx + c = 0)$ and they are\n",
        "$$ x = {-b \\pm \\sqrt{b^2-4ac} \\over 2a} $$"
      ],
      "metadata": {
        "id": "Vkd90r6CtlgU"
      }
    },
    {
      "cell_type": "markdown",
      "source": [
        "INLINE $\\int _0^1\\:\\beta \\gamma \\eta \\zeta \\theta \\frac{2}{\\pi }dx\\:+\\sum _{n=0}^{\\infty }\\:\\left|\\sqrt[3]{4}\\right|$\n"
      ],
      "metadata": {
        "id": "fQnG7QSEuVP5"
      }
    }
  ]
}